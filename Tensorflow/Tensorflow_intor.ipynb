{
 "cells": [
  {
   "cell_type": "code",
   "execution_count": 3,
   "metadata": {},
   "outputs": [
    {
     "name": "stderr",
     "output_type": "stream",
     "text": [
      "WARNING: All log messages before absl::InitializeLog() is called are written to STDERR\n",
      "E0000 00:00:1731728738.995212    2616 cuda_dnn.cc:8310] Unable to register cuDNN factory: Attempting to register factory for plugin cuDNN when one has already been registered\n",
      "E0000 00:00:1731728739.019055    2616 cuda_blas.cc:1418] Unable to register cuBLAS factory: Attempting to register factory for plugin cuBLAS when one has already been registered\n"
     ]
    }
   ],
   "source": [
    "#imports\n",
    "\n",
    "import os\n",
    "# This line changes tensorflow log level and suppresses warnings\n",
    "os.environ['TF_CPP_MIN_LOG_LEVEL'] = '3'\n",
    "import h5py\n",
    "import numpy as np\n",
    "import tensorflow as tf\n",
    "import matplotlib.pyplot as plt\n",
    "from tensorflow.python.framework.ops import EagerTensor\n",
    "from tensorflow.python.ops.resource_variable_ops import ResourceVariable\n",
    "import time"
   ]
  },
  {
   "cell_type": "code",
   "execution_count": 4,
   "metadata": {},
   "outputs": [],
   "source": [
    "# Data Import\n",
    "train_dataset = h5py.File('datasets/train_signs.h5', \"r\")\n",
    "test_dataset = h5py.File('datasets/test_signs.h5', \"r\")"
   ]
  },
  {
   "cell_type": "code",
   "execution_count": 5,
   "metadata": {},
   "outputs": [
    {
     "data": {
      "text/plain": [
       "<HDF5 dataset \"train_set_x\": shape (1080, 64, 64, 3), type \"|u1\">"
      ]
     },
     "execution_count": 5,
     "metadata": {},
     "output_type": "execute_result"
    }
   ],
   "source": [
    "# Data Import Check\n",
    "train_dataset['train_set_x']"
   ]
  },
  {
   "cell_type": "code",
   "execution_count": 6,
   "metadata": {},
   "outputs": [
    {
     "name": "stderr",
     "output_type": "stream",
     "text": [
      "I0000 00:00:1731728742.622211    2616 gpu_device.cc:2022] Created device /job:localhost/replica:0/task:0/device:GPU:0 with 6717 MB memory:  -> device: 0, name: NVIDIA GeForce GTX 1070, pci bus id: 0000:0a:00.0, compute capability: 6.1\n"
     ]
    }
   ],
   "source": [
    "# Data Preparation\n",
    "x_train = tf.data.Dataset.from_tensor_slices(train_dataset['train_set_x'])\n",
    "y_train = tf.data.Dataset.from_tensor_slices(train_dataset['train_set_y'])\n",
    "\n",
    "x_test = tf.data.Dataset.from_tensor_slices(test_dataset['test_set_x'])\n",
    "y_test = tf.data.Dataset.from_tensor_slices(test_dataset['test_set_y'])"
   ]
  },
  {
   "cell_type": "code",
   "execution_count": 7,
   "metadata": {},
   "outputs": [
    {
     "data": {
      "text/plain": [
       "tensorflow.python.data.ops.from_tensor_slices_op._TensorSliceDataset"
      ]
     },
     "execution_count": 7,
     "metadata": {},
     "output_type": "execute_result"
    }
   ],
   "source": [
    "# Data Type Check\n",
    "type(x_train)"
   ]
  },
  {
   "cell_type": "code",
   "execution_count": 8,
   "metadata": {},
   "outputs": [
    {
     "name": "stdout",
     "output_type": "stream",
     "text": [
      "x_train spec:  TensorSpec(shape=(64, 64, 3), dtype=tf.uint8, name=None)\n",
      "x_test spec:  TensorSpec(shape=(64, 64, 3), dtype=tf.uint8, name=None)\n",
      "y_train spec:  TensorSpec(shape=(), dtype=tf.int64, name=None)\n",
      "y_test spec:  TensorSpec(shape=(), dtype=tf.int64, name=None)\n"
     ]
    }
   ],
   "source": [
    "# Train and Test Data spec check\n",
    "print('x_train spec: ', x_train.element_spec)\n",
    "print('x_test spec: ', x_test.element_spec)\n",
    "print('y_train spec: ', y_train.element_spec)\n",
    "print('y_test spec: ', y_test.element_spec)"
   ]
  },
  {
   "cell_type": "code",
   "execution_count": 9,
   "metadata": {},
   "outputs": [
    {
     "name": "stdout",
     "output_type": "stream",
     "text": [
      "tf.Tensor(\n",
      "[[[227 220 214]\n",
      "  [227 221 215]\n",
      "  [227 222 215]\n",
      "  ...\n",
      "  [232 230 224]\n",
      "  [231 229 222]\n",
      "  [230 229 221]]\n",
      "\n",
      " [[227 221 214]\n",
      "  [227 221 215]\n",
      "  [228 221 215]\n",
      "  ...\n",
      "  [232 230 224]\n",
      "  [231 229 222]\n",
      "  [231 229 221]]\n",
      "\n",
      " [[227 221 214]\n",
      "  [227 221 214]\n",
      "  [227 221 215]\n",
      "  ...\n",
      "  [232 230 224]\n",
      "  [231 229 223]\n",
      "  [230 229 221]]\n",
      "\n",
      " ...\n",
      "\n",
      " [[119  81  51]\n",
      "  [124  85  55]\n",
      "  [127  87  58]\n",
      "  ...\n",
      "  [210 211 211]\n",
      "  [211 212 210]\n",
      "  [210 211 210]]\n",
      "\n",
      " [[119  79  51]\n",
      "  [124  84  55]\n",
      "  [126  85  56]\n",
      "  ...\n",
      "  [210 211 210]\n",
      "  [210 211 210]\n",
      "  [209 210 209]]\n",
      "\n",
      " [[119  81  51]\n",
      "  [123  83  55]\n",
      "  [122  82  54]\n",
      "  ...\n",
      "  [209 210 210]\n",
      "  [209 210 209]\n",
      "  [208 209 209]]], shape=(64, 64, 3), dtype=uint8)\n"
     ]
    }
   ],
   "source": [
    "# Verifying x_train is iterable or not\n",
    "print(next(iter(x_train)))"
   ]
  },
  {
   "cell_type": "code",
   "execution_count": 10,
   "metadata": {},
   "outputs": [],
   "source": [
    "# Normalize Image\n",
    "def normalize(image):\n",
    "    image = tf.cast(image, tf.float32) / 256.0\n",
    "    image = tf.reshape(image, [-1, 1])\n",
    "    return image"
   ]
  },
  {
   "cell_type": "code",
   "execution_count": 11,
   "metadata": {},
   "outputs": [],
   "source": [
    "new_train = x_train.map(normalize)\n",
    "new_test = x_test.map(normalize)"
   ]
  },
  {
   "cell_type": "code",
   "execution_count": 12,
   "metadata": {},
   "outputs": [
    {
     "name": "stdout",
     "output_type": "stream",
     "text": [
      "new_train spec:  TensorSpec(shape=(12288, 1), dtype=tf.float32, name=None)\n",
      "new_test spec:  TensorSpec(shape=(12288, 1), dtype=tf.float32, name=None)\n"
     ]
    }
   ],
   "source": [
    "# Train and Test Data spec check\n",
    "print('new_train spec: ', new_train.element_spec)\n",
    "print('new_test spec: ', new_test.element_spec)"
   ]
  },
  {
   "cell_type": "code",
   "execution_count": 13,
   "metadata": {},
   "outputs": [
    {
     "name": "stdout",
     "output_type": "stream",
     "text": [
      "tf.Tensor(\n",
      "[[0.88671875]\n",
      " [0.859375  ]\n",
      " [0.8359375 ]\n",
      " ...\n",
      " [0.8125    ]\n",
      " [0.81640625]\n",
      " [0.81640625]], shape=(12288, 1), dtype=float32)\n"
     ]
    }
   ],
   "source": [
    "print(next(iter(new_train)))"
   ]
  },
  {
   "cell_type": "code",
   "execution_count": 16,
   "metadata": {},
   "outputs": [],
   "source": [
    "# Linear Function using Tensorflow\n",
    "def linear_function():\n",
    "    # Y = WX + b\n",
    "\n",
    "    np.random.seed(1)\n",
    "\n",
    "    X = tf.constant(np.random.randn(3, 1))\n",
    "    W = tf.constant(np.random.randn(4, 3))\n",
    "    b = tf.constant(np.random.randn(4, 1))\n",
    "    Y = tf.add(tf.matmul(W, X), b)\n",
    "\n",
    "    return Y"
   ]
  },
  {
   "cell_type": "code",
   "execution_count": 17,
   "metadata": {},
   "outputs": [
    {
     "name": "stdout",
     "output_type": "stream",
     "text": [
      "basic linear function result:  tf.Tensor(\n",
      "[[-2.15657382]\n",
      " [ 2.95891446]\n",
      " [-1.08926781]\n",
      " [-0.84538042]], shape=(4, 1), dtype=float64)\n"
     ]
    }
   ],
   "source": [
    "result = linear_function()\n",
    "print('basic linear function result: ', result)"
   ]
  },
  {
   "cell_type": "code",
   "execution_count": 18,
   "metadata": {},
   "outputs": [],
   "source": [
    "# Sigmoid using tensorflow\n",
    "def sigmoid(z):\n",
    "    z = tf.cast(z, tf.float32)\n",
    "    a = tf.keras.activations.sigmoid(z)\n",
    "    return a"
   ]
  },
  {
   "cell_type": "code",
   "execution_count": 19,
   "metadata": {},
   "outputs": [
    {
     "name": "stdout",
     "output_type": "stream",
     "text": [
      "type: <class 'tensorflow.python.framework.ops.EagerTensor'>\n",
      "dtype: <dtype: 'float32'>\n",
      "sigmoid(-1) = tf.Tensor(0.26894143, shape=(), dtype=float32)\n",
      "sigmoid(0) = tf.Tensor(0.5, shape=(), dtype=float32)\n",
      "sigmoid(12) = tf.Tensor(0.9999938, shape=(), dtype=float32)\n"
     ]
    }
   ],
   "source": [
    "result = sigmoid(-1)\n",
    "print (\"type: \" + str(type(result)))\n",
    "print (\"dtype: \" + str(result.dtype))\n",
    "print (\"sigmoid(-1) = \" + str(result))\n",
    "print (\"sigmoid(0) = \" + str(sigmoid(0.0)))\n",
    "print (\"sigmoid(12) = \" + str(sigmoid(12)))"
   ]
  },
  {
   "cell_type": "code",
   "execution_count": 20,
   "metadata": {},
   "outputs": [],
   "source": [
    "# One hot matrix in tensorflow\n",
    "def one_hot_matrix(label, depth=8):\n",
    "\n",
    "    one_hot = tf.one_hot(label, depth, axis=0)\n",
    "    one_hot = tf.reshape(one_hot, [depth, 1])\n",
    "    \n",
    "    return one_hot"
   ]
  },
  {
   "cell_type": "code",
   "execution_count": 22,
   "metadata": {},
   "outputs": [
    {
     "name": "stdout",
     "output_type": "stream",
     "text": [
      "tf.Tensor(\n",
      "[[0.]\n",
      " [1.]\n",
      " [0.]\n",
      " [0.]\n",
      " [0.]\n",
      " [0.]\n",
      " [0.]\n",
      " [0.]\n",
      " [0.]\n",
      " [0.]], shape=(10, 1), dtype=float32)\n"
     ]
    }
   ],
   "source": [
    "label = tf.constant(1)\n",
    "depth = 10\n",
    "result = one_hot_matrix(label, depth)\n",
    "print(result)"
   ]
  },
  {
   "cell_type": "code",
   "execution_count": 23,
   "metadata": {},
   "outputs": [],
   "source": [
    "# Using one hot matrix\n",
    "new_y_test = y_test.map(one_hot_matrix)\n",
    "new_y_train = y_train.map(one_hot_matrix)"
   ]
  },
  {
   "cell_type": "code",
   "execution_count": 27,
   "metadata": {},
   "outputs": [
    {
     "name": "stdout",
     "output_type": "stream",
     "text": [
      "new_y_test:  tf.Tensor(\n",
      "[[1.]\n",
      " [0.]\n",
      " [0.]\n",
      " [0.]\n",
      " [0.]\n",
      " [0.]\n",
      " [0.]\n",
      " [0.]], shape=(8, 1), dtype=float32)\n",
      "new_y_train:  tf.Tensor(\n",
      "[[0.]\n",
      " [0.]\n",
      " [0.]\n",
      " [0.]\n",
      " [0.]\n",
      " [1.]\n",
      " [0.]\n",
      " [0.]], shape=(8, 1), dtype=float32)\n"
     ]
    }
   ],
   "source": [
    "print('new_y_test: ', next(iter(new_y_test)))\n",
    "print('new_y_train: ', next(iter(new_y_train)))"
   ]
  },
  {
   "cell_type": "code",
   "execution_count": 28,
   "metadata": {},
   "outputs": [],
   "source": [
    "# Parameters Initialization using tf\n",
    "def initialize_parameters():\n",
    "    initializer = tf.keras.initializers.GlorotNormal(seed=1)\n",
    "    W1 = tf.Variable(initializer(shape=(25, 12288)))\n",
    "    b1 = tf.Variable(initializer(shape=(25, 1)))\n",
    "    W2 = tf.Variable(initializer(shape=(12, 25)))\n",
    "    b2 = tf.Variable(initializer(shape=(12, 1)))\n",
    "    W3 = tf.Variable(initializer(shape=(6, 12)))\n",
    "    b3 = tf.Variable(initializer(shape=(6, 1)))\n",
    "\n",
    "    params = {\n",
    "        'W1': W1,\n",
    "        'b1': b1,\n",
    "        'W2': W2,\n",
    "        'b2': b2,\n",
    "        'W3': b3\n",
    "    }\n",
    "    return params"
   ]
  },
  {
   "cell_type": "code",
   "execution_count": 29,
   "metadata": {},
   "outputs": [
    {
     "name": "stdout",
     "output_type": "stream",
     "text": [
      "parameters:  {'W1': <tf.Variable 'Variable:0' shape=(25, 12288) dtype=float32, numpy=\n",
      "array([[ 0.00183502, -0.00714326,  0.00914526, ..., -0.01221176,\n",
      "         0.01656458,  0.00526992],\n",
      "       [ 0.02264025,  0.0067227 ,  0.00795862, ...,  0.00284724,\n",
      "         0.01910819,  0.00122853],\n",
      "       [-0.00163333, -0.00861273, -0.01398893, ..., -0.00741132,\n",
      "         0.02071251, -0.026417  ],\n",
      "       ...,\n",
      "       [-0.00126929,  0.01729332,  0.02082342, ...,  0.01709594,\n",
      "         0.00429358, -0.00733263],\n",
      "       [ 0.00275988,  0.00419503,  0.00949959, ...,  0.01241149,\n",
      "        -0.0270652 ,  0.01501104],\n",
      "       [-0.00145541,  0.02459595,  0.00339064, ..., -0.02478788,\n",
      "         0.02716016, -0.00306428]], dtype=float32)>, 'b1': <tf.Variable 'Variable:0' shape=(25, 1) dtype=float32, numpy=\n",
      "array([[ 0.03993344],\n",
      "       [-0.15545043],\n",
      "       [ 0.19901742],\n",
      "       [-0.24872702],\n",
      "       [-0.28688195],\n",
      "       [-0.12585858],\n",
      "       [-0.01201915],\n",
      "       [ 0.14756493],\n",
      "       [-0.00472601],\n",
      "       [-0.44236282],\n",
      "       [ 0.54058254],\n",
      "       [-0.43450323],\n",
      "       [ 0.11800031],\n",
      "       [ 0.21523888],\n",
      "       [-0.06789926],\n",
      "       [-0.16455258],\n",
      "       [-0.05258802],\n",
      "       [-0.18575548],\n",
      "       [-0.00277632],\n",
      "       [-0.06777475],\n",
      "       [ 0.09226809],\n",
      "       [ 0.02067652],\n",
      "       [-0.05682073],\n",
      "       [ 0.37068033],\n",
      "       [ 0.21586621]], dtype=float32)>, 'W2': <tf.Variable 'Variable:0' shape=(12, 25) dtype=float32, numpy=\n",
      "array([[ 0.03347515, -0.13031   ,  0.16683105, -0.20850131, -0.24048558,\n",
      "        -0.10550393, -0.01007534,  0.12369978, -0.00396169, -0.3708211 ,\n",
      "         0.4531561 , -0.3642326 ,  0.09891655,  0.18042909, -0.05691816,\n",
      "        -0.13794008, -0.04408315, -0.15571392, -0.00232732, -0.05681378,\n",
      "         0.07734591,  0.01733258, -0.04763132,  0.31073156,  0.18095495],\n",
      "       [ 0.27575395,  0.0652916 ,  0.1945817 ,  0.00809532, -0.3505612 ,\n",
      "        -0.04349809,  0.00533627,  0.14254978, -0.22560681, -0.07908897,\n",
      "        -0.10430468, -0.27877635, -0.22633284, -0.15467171, -0.30278656,\n",
      "         0.42898563,  0.04269395,  0.14339304,  0.40808076,  0.19127996,\n",
      "        -0.08289494,  0.19833343, -0.18854786,  0.11080088, -0.10293513],\n",
      "       [ 0.0749064 ,  0.12879197, -0.37855393, -0.14283597, -0.16864821,\n",
      "        -0.12487295,  0.08058944, -0.14054622, -0.32778224,  0.11833672,\n",
      "         0.21914458,  0.1428981 ,  0.4125568 , -0.02966296, -0.11308558,\n",
      "         0.2839564 ,  0.26005846, -0.12101684,  0.14712206, -0.39992064,\n",
      "        -0.11544652, -0.11918075, -0.5031594 , -0.16591036, -0.04636551],\n",
      "       [-0.11970381,  0.19529893, -0.13428073, -0.46205577,  0.07818031,\n",
      "        -0.37026548, -0.06378475,  0.3693177 ,  0.07429875,  0.5162154 ,\n",
      "        -0.01673712,  0.35476214,  0.09180938,  0.17954445,  0.00366851,\n",
      "         0.04273273,  0.1022695 ,  0.03479045, -0.2330886 , -0.23678231,\n",
      "        -0.07444265, -0.30713868, -0.11694648,  0.32906806, -0.09511968],\n",
      "       [ 0.15972961,  0.0393942 ,  0.4806439 ,  0.22657788,  0.03705936,\n",
      "        -0.51946974, -0.01744555, -0.31213164, -0.2126262 ,  0.05213223,\n",
      "         0.04905999, -0.2909428 , -0.03067003,  0.47902155,  0.3192982 ,\n",
      "         0.04899108,  0.08141489,  0.32032353, -0.02520937,  0.10048122,\n",
      "        -0.05332499, -0.34107792, -0.13928486,  0.12382393, -0.41300818],\n",
      "       [-0.15009922,  0.03965308, -0.47955167, -0.07975382,  0.09735033,\n",
      "        -0.00232943, -0.26368296, -0.24157846,  0.24642423,  0.22330649,\n",
      "        -0.30809   ,  0.1017215 ,  0.02995418,  0.26468748, -0.52045006,\n",
      "        -0.08780679,  0.02792993,  0.2803117 ,  0.20731722, -0.14461055,\n",
      "        -0.09631127,  0.25533766,  0.0313108 ,  0.28631765,  0.02228327],\n",
      "       [-0.20281379, -0.29227653, -0.02937314,  0.00603206,  0.3442851 ,\n",
      "         0.14963913, -0.42720488,  0.07914864,  0.06170019, -0.19420321,\n",
      "         0.03054667, -0.20949648,  0.28976992,  0.03168807,  0.18336946,\n",
      "        -0.17628111, -0.21549895,  0.02550345, -0.17974658,  0.20999095,\n",
      "         0.13074145,  0.12900151, -0.29620144,  0.39836082,  0.35581756],\n",
      "       [-0.0809828 ,  0.0508789 ,  0.04040742, -0.06884032, -0.07758227,\n",
      "         0.2124186 ,  0.16171476, -0.0574309 , -0.04828556, -0.23045349,\n",
      "         0.25515756, -0.2933403 , -0.16053016, -0.112326  , -0.13022825,\n",
      "         0.05022161,  0.18676145, -0.0776429 ,  0.10283031, -0.06372993,\n",
      "         0.41251048, -0.01803587,  0.04746069,  0.27630132, -0.21901166],\n",
      "       [ 0.28674722,  0.2062927 , -0.38042602,  0.2629734 ,  0.23505901,\n",
      "         0.18131882,  0.25507572, -0.18465258,  0.36351705,  0.02036598,\n",
      "        -0.33226338, -0.09722907, -0.00817799,  0.22310142, -0.22345005,\n",
      "        -0.02439134,  0.19453065,  0.00433169,  0.47482872,  0.00131025,\n",
      "         0.3148377 , -0.22662118,  0.12927507,  0.04369456, -0.45121887],\n",
      "       [-0.23054188, -0.22334962, -0.18913192,  0.15417176, -0.07368276,\n",
      "        -0.0554374 ,  0.12214173,  0.3880139 , -0.01242276,  0.11768965,\n",
      "         0.26777858, -0.06251994, -0.12100054, -0.12495217, -0.03189994,\n",
      "        -0.50085783, -0.09560107, -0.2402923 ,  0.07087833,  0.03642716,\n",
      "        -0.00494978, -0.36984685,  0.00878784,  0.24595839, -0.13239339],\n",
      "       [ 0.318445  ,  0.02266271, -0.06839968, -0.33999094,  0.36428222,\n",
      "        -0.29877323, -0.05122564, -0.37625378,  0.268155  ,  0.19277745,\n",
      "         0.0209468 ,  0.10230298, -0.3974174 ,  0.02363082,  0.12647092,\n",
      "         0.3326305 ,  0.07712924,  0.19261338, -0.08101249, -0.28784147,\n",
      "         0.17327176, -0.1326688 ,  0.28894275, -0.1987789 , -0.03405774],\n",
      "       [ 0.1867647 , -0.20398362, -0.03936023, -0.3679167 , -0.22960077,\n",
      "         0.23853372, -0.04239364, -0.02102038, -0.06170619,  0.15821125,\n",
      "        -0.31986177,  0.15379828,  0.14520119, -0.24647985, -0.09176766,\n",
      "         0.13322504,  0.40508434,  0.35624555,  0.3348011 ,  0.05405051,\n",
      "         0.21186371,  0.0197499 ,  0.45979315,  0.04328793,  0.36662805]],\n",
      "      dtype=float32)>, 'b2': <tf.Variable 'Variable:0' shape=(12, 1) dtype=float32, numpy=\n",
      "array([[ 0.0564744 ],\n",
      "       [-0.21984011],\n",
      "       [ 0.2814531 ],\n",
      "       [-0.35175312],\n",
      "       [-0.40571234],\n",
      "       [-0.1779909 ],\n",
      "       [-0.01699764],\n",
      "       [ 0.20868832],\n",
      "       [-0.00668358],\n",
      "       [-0.6255955 ],\n",
      "       [ 0.7644991 ],\n",
      "       [-0.6144803 ]], dtype=float32)>, 'W3': <tf.Variable 'Variable:0' shape=(6, 1) dtype=float32, numpy=\n",
      "array([[ 0.07696164],\n",
      "       [-0.2995916 ],\n",
      "       [ 0.38355598],\n",
      "       [-0.47935873],\n",
      "       [-0.55289274],\n",
      "       [-0.24256073]], dtype=float32)>}\n"
     ]
    }
   ],
   "source": [
    "params = initialize_parameters()\n",
    "print('parameters: ', params)"
   ]
  },
  {
   "cell_type": "code",
   "execution_count": null,
   "metadata": {},
   "outputs": [],
   "source": []
  }
 ],
 "metadata": {
  "kernelspec": {
   "display_name": "base",
   "language": "python",
   "name": "python3"
  },
  "language_info": {
   "codemirror_mode": {
    "name": "ipython",
    "version": 3
   },
   "file_extension": ".py",
   "mimetype": "text/x-python",
   "name": "python",
   "nbconvert_exporter": "python",
   "pygments_lexer": "ipython3",
   "version": "3.12.7"
  }
 },
 "nbformat": 4,
 "nbformat_minor": 2
}
